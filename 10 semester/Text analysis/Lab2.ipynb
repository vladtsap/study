{
  "nbformat": 4,
  "nbformat_minor": 0,
  "metadata": {
    "colab": {
      "name": "Lab2.ipynb",
      "provenance": []
    },
    "kernelspec": {
      "name": "python3",
      "display_name": "Python 3"
    },
    "language_info": {
      "name": "python"
    }
  },
  "cells": [
    {
      "cell_type": "code",
      "source": [
        "pip install ua_datasets"
      ],
      "metadata": {
        "id": "8ET8C5yqb-BQ"
      },
      "execution_count": 2,
      "outputs": []
    },
    {
      "cell_type": "code",
      "source": [
        "from ua_datasets import NewsClassificationDataset\n",
        "train_data = NewsClassificationDataset(root = 'data/', split = 'train', return_tags = True)\n",
        "test_data = NewsClassificationDataset(root = 'data/', split = 'test', return_tags = True)"
      ],
      "metadata": {
        "id": "uhJIS1WNb-VO"
      },
      "execution_count": 3,
      "outputs": []
    },
    {
      "cell_type": "code",
      "source": [
        "import pandas as pd\n",
        "import nltk\n",
        "nltk.download('punkt')\n",
        "nltk.download('stopwords')"
      ],
      "metadata": {
        "colab": {
          "base_uri": "https://localhost:8080/"
        },
        "id": "CzUgNJuYco-H",
        "outputId": "52f02edd-2162-4acd-a5e6-2ee1ca7ad670"
      },
      "execution_count": 3,
      "outputs": [
        {
          "output_type": "stream",
          "name": "stdout",
          "text": [
            "[nltk_data] Downloading package punkt to /root/nltk_data...\n",
            "[nltk_data]   Package punkt is already up-to-date!\n",
            "[nltk_data] Downloading package stopwords to /root/nltk_data...\n",
            "[nltk_data]   Package stopwords is already up-to-date!\n"
          ]
        },
        {
          "output_type": "execute_result",
          "data": {
            "text/plain": [
              "True"
            ]
          },
          "metadata": {},
          "execution_count": 3
        }
      ]
    },
    {
      "cell_type": "code",
      "source": [
        "def read_text(name_txt):\n",
        "  with open(name_txt, 'r') as file:\n",
        "    text = file.readlines()\n",
        "  return ' '.join(text)"
      ],
      "metadata": {
        "id": "tQHIbvEpma9P"
      },
      "execution_count": 4,
      "outputs": []
    },
    {
      "cell_type": "code",
      "source": [
        "train_data = pd.read_csv('data/train.csv')\n",
        "test_data = pd.read_csv('data/test.csv')"
      ],
      "metadata": {
        "id": "fc3y1limcvVb"
      },
      "execution_count": 5,
      "outputs": []
    },
    {
      "cell_type": "code",
      "source": [
        "train_data = train_data[:10000]\n",
        "test_data = test_data[:2000]"
      ],
      "metadata": {
        "id": "ElZBRSrKdxRa"
      },
      "execution_count": 6,
      "outputs": []
    },
    {
      "cell_type": "code",
      "source": [
        "train_x = train_data['text']\n",
        "train_y = train_data['target']\n",
        "\n",
        "test_x = test_data['text']\n",
        "test_y = test_data['target']\n",
        "\n",
        "print(train_x.head(), '\\n')\n",
        "print(train_y.head())"
      ],
      "metadata": {
        "colab": {
          "base_uri": "https://localhost:8080/"
        },
        "id": "spoTQ5vceFY3",
        "outputId": "83ef63bf-c7af-4b4e-9b73-0eb0ed7e8ad1"
      },
      "execution_count": 7,
      "outputs": [
        {
          "output_type": "stream",
          "name": "stdout",
          "text": [
            "0    Головний тренер солігорського «Шахтаря» Юрій В...\n",
            "1    Про це на своїй сторінці у Facebook написав пр...\n",
            "2    Про це повідомляється в доповіді некомерційної...\n",
            "3     Легенда НБА Шакіл О’Ніл продав свій маєток у ...\n",
            "4     Засновник фінансової піраміди B2B Jewelry Мик...\n",
            "Name: text, dtype: object \n",
            "\n",
            "0     спорт\n",
            "1    новини\n",
            "2    новини\n",
            "3     спорт\n",
            "4    бізнес\n",
            "Name: target, dtype: object\n"
          ]
        }
      ]
    },
    {
      "cell_type": "code",
      "source": [
        "def tokenize(data):\n",
        "  tokens = []\n",
        "  for line in data:\n",
        "    tokens.append(nltk.word_tokenize(line.lower()))\n",
        "  return tokens\n",
        "\n",
        "test_x = tokenize(test_x)\n",
        "train_x = tokenize(train_x)"
      ],
      "metadata": {
        "id": "WiLMJofteSwH"
      },
      "execution_count": 8,
      "outputs": []
    },
    {
      "cell_type": "code",
      "source": [
        "def remove_punctuation(data):\n",
        "  punctuation = [',', '.', '/', '\\\\', '|', '\\'', '\\'\\'', '\\\"', '«', '»', '-', '—', '%', '`', '``', '(', ')', '!', '?', ':', '’'] \n",
        "  tokens_without_punct = []\n",
        "  for token_sentence in data:\n",
        "    tok = [token for token in token_sentence if token not in punctuation]\n",
        "    tokens_without_punct.append(tok)\n",
        "  return tokens_without_punct\n",
        "\n",
        "test_x = remove_punctuation(test_x)\n",
        "train_x = remove_punctuation(train_x)"
      ],
      "metadata": {
        "id": "bXmNgnc7kSMP"
      },
      "execution_count": 9,
      "outputs": []
    },
    {
      "cell_type": "code",
      "source": [
        "def remove_stopwords(data):\n",
        "  uk_stop_words = set(read_text('stopwords-uk.txt').split())\n",
        "  tokens_without_sw = []\n",
        "  for token_sentence in data:\n",
        "    tok = [token for token in token_sentence if token not in uk_stop_words]\n",
        "    tokens_without_sw.append(tok)\n",
        "  return tokens_without_sw\n",
        "\n",
        "test_x = remove_stopwords(test_x)\n",
        "train_x = remove_stopwords(train_x)"
      ],
      "metadata": {
        "id": "sSof2FfVmEZv"
      },
      "execution_count": 10,
      "outputs": []
    },
    {
      "cell_type": "code",
      "source": [
        "def list_to_string(data):\n",
        "  list_text = []\n",
        "  for text in data:\n",
        "    list_text.append(' '.join(text))\n",
        "  return list_text\n",
        "\n",
        "test_x = list_to_string(test_x)\n",
        "train_x = list_to_string(train_x)"
      ],
      "metadata": {
        "id": "IHZMqHk8V9hW"
      },
      "execution_count": 11,
      "outputs": []
    },
    {
      "cell_type": "markdown",
      "source": [
        "Classifier\n"
      ],
      "metadata": {
        "id": "INtSYKBnbdk_"
      }
    },
    {
      "cell_type": "code",
      "source": [
        "from sklearn.pipeline import Pipeline\n",
        "from sklearn.feature_extraction.text import TfidfVectorizer\n",
        "from sklearn.linear_model import SGDClassifier\n",
        "from sklearn.neighbors import KNeighborsClassifier\n",
        "from sklearn import metrics\n",
        "from sklearn.model_selection import GridSearchCV"
      ],
      "metadata": {
        "id": "YTYjZnNCsXHg"
      },
      "execution_count": 12,
      "outputs": []
    },
    {
      "cell_type": "code",
      "source": [
        "sgd_ppl_clf = Pipeline([\n",
        "    ('tfidf', TfidfVectorizer()),\n",
        "    ('sgd_clf', SGDClassifier(random_state=42))])\n",
        "knb_ppl_clf = Pipeline([\n",
        "    ('tfidf', TfidfVectorizer()),\n",
        "    ('knb_clf', KNeighborsClassifier(n_neighbors=10))])"
      ],
      "metadata": {
        "id": "rC-aYBrxskfX"
      },
      "execution_count": 13,
      "outputs": []
    },
    {
      "cell_type": "code",
      "source": [
        "sgd_ppl_clf.fit(train_x, train_y)\n",
        "knb_ppl_clf.fit(train_x, train_y)"
      ],
      "metadata": {
        "colab": {
          "base_uri": "https://localhost:8080/"
        },
        "id": "GqGyLjmOsrdH",
        "outputId": "52cea9eb-a86e-452a-b4f1-031755b8963b"
      },
      "execution_count": 14,
      "outputs": [
        {
          "output_type": "execute_result",
          "data": {
            "text/plain": [
              "Pipeline(steps=[('tfidf', TfidfVectorizer()),\n",
              "                ('knb_clf', KNeighborsClassifier(n_neighbors=10))])"
            ]
          },
          "metadata": {},
          "execution_count": 14
        }
      ]
    },
    {
      "cell_type": "code",
      "source": [
        "predicted_sgd = sgd_ppl_clf.predict(test_x)\n",
        "print(metrics.classification_report(predicted_sgd, test_y))"
      ],
      "metadata": {
        "colab": {
          "base_uri": "https://localhost:8080/"
        },
        "id": "tPnMF76RYAvr",
        "outputId": "a033ea9d-efae-440c-fbed-364aacca8a9e"
      },
      "execution_count": 15,
      "outputs": [
        {
          "output_type": "stream",
          "name": "stdout",
          "text": [
            "              precision    recall  f1-score   support\n",
            "\n",
            "      бізнес       0.82      0.82      0.82       256\n",
            "      новини       0.78      0.85      0.81       374\n",
            "    політика       0.92      0.88      0.90       674\n",
            "       спорт       0.99      0.99      0.99       484\n",
            "  технології       0.88      0.84      0.86       212\n",
            "\n",
            "    accuracy                           0.89      2000\n",
            "   macro avg       0.88      0.88      0.88      2000\n",
            "weighted avg       0.89      0.89      0.89      2000\n",
            "\n"
          ]
        }
      ]
    },
    {
      "cell_type": "code",
      "source": [
        "predicted_knb = knb_ppl_clf.predict(test_x)\n",
        "print(metrics.classification_report(predicted_knb, test_y))"
      ],
      "metadata": {
        "colab": {
          "base_uri": "https://localhost:8080/"
        },
        "id": "rDvOGU1gYO6i",
        "outputId": "faeea682-7f10-4131-e84f-e8be0d20f91b"
      },
      "execution_count": 16,
      "outputs": [
        {
          "output_type": "stream",
          "name": "stdout",
          "text": [
            "              precision    recall  f1-score   support\n",
            "\n",
            "      бізнес       0.83      0.66      0.74       323\n",
            "      новини       0.67      0.79      0.73       348\n",
            "    політика       0.84      0.87      0.85       630\n",
            "       спорт       0.99      0.97      0.98       490\n",
            "  технології       0.80      0.78      0.79       209\n",
            "\n",
            "    accuracy                           0.84      2000\n",
            "   macro avg       0.83      0.81      0.82      2000\n",
            "weighted avg       0.84      0.84      0.84      2000\n",
            "\n"
          ]
        }
      ]
    },
    {
      "cell_type": "markdown",
      "source": [
        "Clusterer"
      ],
      "metadata": {
        "id": "yNpoZnc4bUjO"
      }
    },
    {
      "cell_type": "code",
      "source": [
        "from sklearn.cluster import KMeans"
      ],
      "metadata": {
        "id": "BmcQ-EHNcGQH"
      },
      "execution_count": 24,
      "outputs": []
    },
    {
      "cell_type": "code",
      "source": [
        "km_ppl_clr = Pipeline([\n",
        "    ('tfidf', TfidfVectorizer()),\n",
        "    ('knb_clf', KMeans(n_clusters=5))])"
      ],
      "metadata": {
        "id": "rH2b1XBLbQP_"
      },
      "execution_count": 25,
      "outputs": []
    },
    {
      "cell_type": "code",
      "source": [
        "km_ppl_clr.fit(train_x, train_y)"
      ],
      "metadata": {
        "colab": {
          "base_uri": "https://localhost:8080/"
        },
        "id": "n1KRLjludiSC",
        "outputId": "5e8f2c3d-f7d3-4136-873c-a5b9950b3f6f"
      },
      "execution_count": 26,
      "outputs": [
        {
          "output_type": "execute_result",
          "data": {
            "text/plain": [
              "Pipeline(steps=[('tfidf', TfidfVectorizer()),\n",
              "                ('knb_clf', KMeans(n_clusters=5))])"
            ]
          },
          "metadata": {},
          "execution_count": 26
        }
      ]
    },
    {
      "cell_type": "code",
      "source": [
        "predicted_km = km_ppl_clr.predict(test_x[:5])\n",
        "for i in range(5):\n",
        "  print(test_y[i], predicted_km[i])"
      ],
      "metadata": {
        "colab": {
          "base_uri": "https://localhost:8080/"
        },
        "id": "iJC992PxdmKw",
        "outputId": "f06482a7-7092-45f9-f929-0ef84aad8470"
      },
      "execution_count": 27,
      "outputs": [
        {
          "output_type": "stream",
          "name": "stdout",
          "text": [
            "спорт 4\n",
            "політика 1\n",
            "політика 1\n",
            "бізнес 2\n",
            "політика 1\n"
          ]
        }
      ]
    }
  ]
}