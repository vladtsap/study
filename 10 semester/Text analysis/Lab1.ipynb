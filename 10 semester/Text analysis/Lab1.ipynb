{
  "nbformat": 4,
  "nbformat_minor": 0,
  "metadata": {
    "colab": {
      "name": "Lab1.ipynb",
      "provenance": [],
      "collapsed_sections": []
    },
    "kernelspec": {
      "name": "python3",
      "display_name": "Python 3"
    },
    "language_info": {
      "name": "python"
    }
  },
  "cells": [
    {
      "cell_type": "code",
      "source": [
        "from google.colab import drive\n",
        "drive.mount('/content/drive')"
      ],
      "metadata": {
        "colab": {
          "base_uri": "https://localhost:8080/"
        },
        "id": "huXIElnBO1Cb",
        "outputId": "14f95273-26ad-48eb-c1af-ef5eacdaa57f"
      },
      "execution_count": 3,
      "outputs": [
        {
          "output_type": "stream",
          "name": "stdout",
          "text": [
            "Drive already mounted at /content/drive; to attempt to forcibly remount, call drive.mount(\"/content/drive\", force_remount=True).\n"
          ]
        }
      ]
    },
    {
      "cell_type": "code",
      "source": [
        "import sys\n",
        "sys.path.insert(0, '/content/drive/My Drive/NLP')"
      ],
      "metadata": {
        "id": "xwvkLhzDPhqb"
      },
      "execution_count": 4,
      "outputs": []
    },
    {
      "cell_type": "code",
      "execution_count": 5,
      "metadata": {
        "colab": {
          "base_uri": "https://localhost:8080/"
        },
        "id": "v642FOVa9MFu",
        "outputId": "b79cbd56-cf72-49b5-c4a6-0e5d349b240d"
      },
      "outputs": [
        {
          "output_type": "stream",
          "name": "stdout",
          "text": [
            "[nltk_data] Downloading package punkt to /root/nltk_data...\n",
            "[nltk_data]   Unzipping tokenizers/punkt.zip.\n",
            "[nltk_data] Downloading package stopwords to /root/nltk_data...\n",
            "[nltk_data]   Unzipping corpora/stopwords.zip.\n",
            "[nltk_data] Downloading package averaged_perceptron_tagger to\n",
            "[nltk_data]     /root/nltk_data...\n",
            "[nltk_data]   Unzipping taggers/averaged_perceptron_tagger.zip.\n"
          ]
        },
        {
          "output_type": "execute_result",
          "data": {
            "text/plain": [
              "True"
            ]
          },
          "metadata": {},
          "execution_count": 5
        }
      ],
      "source": [
        "import re\n",
        "import nltk\n",
        "nltk.download('punkt')\n",
        "nltk.download('stopwords')\n",
        "nltk.download('averaged_perceptron_tagger')"
      ]
    },
    {
      "cell_type": "code",
      "source": [
        "def read_text(name_txt):\n",
        "  with open(name_txt, 'r') as file:\n",
        "    text = file.readlines()\n",
        "  return ' '.join(text)"
      ],
      "metadata": {
        "id": "DUCjhALM91HI"
      },
      "execution_count": 6,
      "outputs": []
    },
    {
      "cell_type": "code",
      "source": [
        "uk_text = ''.join(read_text('uk_text.txt')).lower()\n",
        "en_text = ''.join(read_text('en_text.txt')).lower()\n",
        "print(uk_text)\n",
        "print(en_text)"
      ],
      "metadata": {
        "colab": {
          "base_uri": "https://localhost:8080/"
        },
        "id": "x-AzQF1T-YO5",
        "outputId": "b62ea021-4f13-4c23-bda4-5a22b2abd347"
      },
      "execution_count": 7,
      "outputs": [
        {
          "output_type": "stream",
          "name": "stdout",
          "text": [
            "📸 хочу вийти на фото як ...\n",
            " ні в якому разі не потрібно порівнювати себе з кимось або когось наслідувати. всі ми різні від природи і якщо одному образ йде на 100 відсотків, то інший в ньому може побачити себе не красивим. шукаємо то що йде тільки вам!\n",
            " 📸образ не відповідає сторони!\n",
            " часто ви не подобаєтеся собі на фото не тому що ви погано вийшли в кадрі, а тому що просто ваш одяг абсолютно не відповідає стилю обраної локації. завжди обговорюйте цей момент з фотографом, вона / він завжди з радістю вам щось підкаже і підбере одяг до фотостудії.\n",
            " ретельно підбирайте образи на фотосесію, макіяж і зачіску!\n",
            "📸 i want to take a photo as ...\n",
            " under no circumstances should you compare yourself to someone or imitate someone. we are all different from nature and if one image is 100 percent, the other may not see himself as beautiful. we are looking for something that suits only you!\n",
            " 📸the image does not match the party!\n",
            " often you do not like yourself in the photo not because you did poorly in the frame, but because your clothes just do not match the style of the chosen location. always discuss this point with the photographer, she / he will always be happy to tell you something and pick up clothes for the photo studio.\n",
            " carefully choose the images for a photo shoot, makeup and hair!\n"
          ]
        }
      ]
    },
    {
      "cell_type": "markdown",
      "source": [
        "Tokenization"
      ],
      "metadata": {
        "id": "oJCzoq0iADTZ"
      }
    },
    {
      "cell_type": "code",
      "source": [
        "uk_tokens = nltk.word_tokenize(uk_text)\n",
        "en_tokens = nltk.word_tokenize(en_text)\n",
        "print(uk_tokens)\n",
        "print(en_tokens)"
      ],
      "metadata": {
        "colab": {
          "base_uri": "https://localhost:8080/"
        },
        "id": "OTjcvgC--kJJ",
        "outputId": "61e3a4a0-dbb1-4474-a1ed-847169bcb62d"
      },
      "execution_count": 8,
      "outputs": [
        {
          "output_type": "stream",
          "name": "stdout",
          "text": [
            "['📸', 'хочу', 'вийти', 'на', 'фото', 'як', '...', 'ні', 'в', 'якому', 'разі', 'не', 'потрібно', 'порівнювати', 'себе', 'з', 'кимось', 'або', 'когось', 'наслідувати', '.', 'всі', 'ми', 'різні', 'від', 'природи', 'і', 'якщо', 'одному', 'образ', 'йде', 'на', '100', 'відсотків', ',', 'то', 'інший', 'в', 'ньому', 'може', 'побачити', 'себе', 'не', 'красивим', '.', 'шукаємо', 'то', 'що', 'йде', 'тільки', 'вам', '!', '📸образ', 'не', 'відповідає', 'сторони', '!', 'часто', 'ви', 'не', 'подобаєтеся', 'собі', 'на', 'фото', 'не', 'тому', 'що', 'ви', 'погано', 'вийшли', 'в', 'кадрі', ',', 'а', 'тому', 'що', 'просто', 'ваш', 'одяг', 'абсолютно', 'не', 'відповідає', 'стилю', 'обраної', 'локації', '.', 'завжди', 'обговорюйте', 'цей', 'момент', 'з', 'фотографом', ',', 'вона', '/', 'він', 'завжди', 'з', 'радістю', 'вам', 'щось', 'підкаже', 'і', 'підбере', 'одяг', 'до', 'фотостудії', '.', 'ретельно', 'підбирайте', 'образи', 'на', 'фотосесію', ',', 'макіяж', 'і', 'зачіску', '!']\n",
            "['📸', 'i', 'want', 'to', 'take', 'a', 'photo', 'as', '...', 'under', 'no', 'circumstances', 'should', 'you', 'compare', 'yourself', 'to', 'someone', 'or', 'imitate', 'someone', '.', 'we', 'are', 'all', 'different', 'from', 'nature', 'and', 'if', 'one', 'image', 'is', '100', 'percent', ',', 'the', 'other', 'may', 'not', 'see', 'himself', 'as', 'beautiful', '.', 'we', 'are', 'looking', 'for', 'something', 'that', 'suits', 'only', 'you', '!', '📸the', 'image', 'does', 'not', 'match', 'the', 'party', '!', 'often', 'you', 'do', 'not', 'like', 'yourself', 'in', 'the', 'photo', 'not', 'because', 'you', 'did', 'poorly', 'in', 'the', 'frame', ',', 'but', 'because', 'your', 'clothes', 'just', 'do', 'not', 'match', 'the', 'style', 'of', 'the', 'chosen', 'location', '.', 'always', 'discuss', 'this', 'point', 'with', 'the', 'photographer', ',', 'she', '/', 'he', 'will', 'always', 'be', 'happy', 'to', 'tell', 'you', 'something', 'and', 'pick', 'up', 'clothes', 'for', 'the', 'photo', 'studio', '.', 'carefully', 'choose', 'the', 'images', 'for', 'a', 'photo', 'shoot', ',', 'makeup', 'and', 'hair', '!']\n"
          ]
        }
      ]
    },
    {
      "cell_type": "markdown",
      "source": [
        "Finding frequency distinct in the text"
      ],
      "metadata": {
        "id": "slujjvbKBoI5"
      }
    },
    {
      "cell_type": "code",
      "source": [
        "uk_freq_dist = nltk.probability.FreqDist(uk_tokens)\n",
        "en_freq_dist = nltk.probability.FreqDist(en_tokens)\n",
        "print(uk_freq_dist)\n",
        "print(en_freq_dist)\n",
        "print(uk_freq_dist.most_common(10))\n",
        "print(en_freq_dist.most_common(10))"
      ],
      "metadata": {
        "colab": {
          "base_uri": "https://localhost:8080/"
        },
        "id": "pWrOxe89Bj2D",
        "outputId": "b8e9d1b0-1fa9-4916-caf5-7ac178ba91ac"
      },
      "execution_count": 9,
      "outputs": [
        {
          "output_type": "stream",
          "name": "stdout",
          "text": [
            "<FreqDist with 84 samples and 118 outcomes>\n",
            "<FreqDist with 90 samples and 137 outcomes>\n",
            "[('не', 6), ('на', 4), ('.', 4), (',', 4), ('в', 3), ('з', 3), ('і', 3), ('що', 3), ('!', 3), ('фото', 2)]\n",
            "[('the', 9), ('you', 5), ('not', 5), ('photo', 4), ('.', 4), (',', 4), ('to', 3), ('and', 3), ('for', 3), ('!', 3)]\n"
          ]
        }
      ]
    },
    {
      "cell_type": "markdown",
      "source": [
        "Delete stop words"
      ],
      "metadata": {
        "id": "g7NBp-vgC7w6"
      }
    },
    {
      "cell_type": "code",
      "source": [
        "en_stop_words = set(nltk.corpus.stopwords.words('english'))\n",
        "uk_stop_words = set(read_text('stopwords-uk.txt').split())\n",
        "print(en_stop_words)\n",
        "print(uk_stop_words)"
      ],
      "metadata": {
        "colab": {
          "base_uri": "https://localhost:8080/"
        },
        "id": "uVNGTqQNC7ZM",
        "outputId": "9a60126b-c55c-4131-d3ad-efe02b404b8d"
      },
      "execution_count": 10,
      "outputs": [
        {
          "output_type": "stream",
          "name": "stdout",
          "text": [
            "{'these', 'was', 'while', 'some', 'no', 'i', 'ours', 'during', \"should've\", 'where', 'from', 'each', 'were', \"aren't\", 'those', 'ma', \"you'll\", 'her', 'hadn', 'and', 're', \"hasn't\", 'ain', 'y', 'few', 'with', 'over', 'been', 'down', 'its', 'until', 'out', 'how', \"don't\", 'now', 'd', 'any', 'in', 'by', 'not', 'aren', 'haven', 'needn', 'if', 'shan', 'being', 'their', 'only', 'all', 'didn', 'who', 'than', 'the', 'above', 'wasn', 'have', 'up', 'won', 'but', 'as', 'mustn', 'of', 'me', 'couldn', 'off', 'it', 'very', 'once', 'weren', 's', 'because', 'him', 'our', 'shouldn', \"it's\", 'themselves', 'he', 'isn', \"wouldn't\", 'such', 'under', 'why', 'most', 'is', 'doing', \"mustn't\", 'do', 'wouldn', 'am', \"doesn't\", \"hadn't\", 'to', 'himself', 'both', 'own', 'about', 'theirs', 'yourself', 'too', 'his', 'after', 'can', \"shan't\", 'for', 'doesn', \"needn't\", 'or', \"that'll\", 'you', 'whom', 'ourselves', \"you'd\", 'll', \"you're\", 'there', 'into', 'nor', 'does', 'through', 'again', 'hasn', 'hers', \"weren't\", \"wasn't\", 'here', 'm', 'herself', 'yourselves', 'which', 'when', 'yours', 've', 'further', 'mightn', \"you've\", 'will', 'at', 'a', 'she', 'itself', 'your', 'are', \"haven't\", 'did', 'an', 'o', 'below', 'between', 'just', \"mightn't\", 'has', \"shouldn't\", 'same', 'should', 't', 'don', 'then', 'against', 'they', 'be', \"didn't\", 'had', 'them', 'more', 'my', \"won't\", 'having', \"couldn't\", 'so', 'myself', 'on', 'other', 'we', 'this', \"she's\", 'before', \"isn't\", 'what', 'that'}\n",
            "{'замість', 'ледве', 'отож', 'поза', 'це', 'який', 'да', 'він', 'так', 'ми', 'від', 'адже', 'до', 'й', 'коли', 'про', 'під', 'вниз', 'також', 'весь', 'цей', 'нам', 'були', 'для', 'тобто', 'все', 'як', 'був', 'навколо', 'вам', 'є', 'воно', 'завжди', 'навіть', 'от', 'де', 'більш', 'бути', 'чого', 'з', 'але', 'те', 'б', 'була', 'отже', 'її', 'вона', 'давай', 'ти', 'їх', 'давати', 'вздовж', 'чи', 'всередині', 'вас', 'що', 'такий', 'якої', 'вони', 'внизу', 'всіх', 'без', 'із', 'тощо', 'інших', 'було', 'дещо', 'авжеж', 'майже', 'та', 'ви', 'хоча', 'тож'}\n"
          ]
        }
      ]
    },
    {
      "cell_type": "markdown",
      "source": [
        "Stemming"
      ],
      "metadata": {
        "id": "3lnDZaa8JVHC"
      }
    },
    {
      "cell_type": "code",
      "source": [
        "class UkStemmer():\n",
        "    def __init__(self):\n",
        "        self.vowel = r'аеиоуюяіїє' \n",
        "        self.perfectiveground = r'(ив|ивши|ившись|ыв|ывши|ывшись((?<=[ая])(в|вши|вшись)))$'\n",
        "        self.reflexive = r'(с[яьи])$'\n",
        "        self.adjective = r'(ими|ій|ий|а|е|ова|ове|ів|є|їй|єє|еє|я|ім|ем|им|ім|их|іх|ою|йми|іми|у|ю|ого|ому|ої)$'\n",
        "        self.participle = r'(ий|ого|ому|им|ім|а|ій|у|ою|ій|і|их|йми|их)$'\n",
        "        self.verb = r'(сь|ся|ив|ать|ять|у|ю|ав|али|учи|ячи|вши|ши|е|ме|ати|яти|є)$'\n",
        "        self.noun = r'(а|ев|ов|е|ями|ами|еи|и|ей|ой|ий|й|иям|ям|ием|ем|ам|ом|о|у|ах|иях|ях|ы|ь|ию|ью|ю|ия|ья|я|і|ові|ї|ею|єю|ою|є|еві|ем|єм|ів|їв|ю)$'\n",
        "        self.rvre = r'[аеиоуюяіїє]'\n",
        "        self.derivational = r'[^аеиоуюяіїє][аеиоуюяіїє]+[^аеиоуюяіїє]+[аеиоуюяіїє].*(?<=о)сть?$'\n",
        "        self.RV = ''\n",
        "\n",
        "    def ukstemmer_search_preprocess(self, word):\n",
        "        word = word.lower()\n",
        "        word = word.replace(\"'\", \"\")\n",
        "        word = word.replace(\"ё\", \"е\")\n",
        "        word = word.replace(\"ъ\", \"ї\")\n",
        "        return word\n",
        "\n",
        "    def s(self, st, reg, to):\n",
        "        orig = st\n",
        "        self.RV = re.sub(reg, to, st)\n",
        "        return (orig != self.RV)\n",
        "\n",
        "    def stem_word(self, word):\n",
        "        self.word = word\n",
        "        word = self.ukstemmer_search_preprocess(self.word)\n",
        "        if not re.search('[аеиоуюяіїє]', word):\n",
        "            stem = word\n",
        "        else:\n",
        "            p = re.search(self.rvre, word)\n",
        "            start = word[0:p.span()[1]]\n",
        "            self.RV = word[p.span()[1]:]\n",
        "\n",
        "            if not self.s(self.RV, self.perfectiveground, ''):\n",
        "\n",
        "                self.s(self.RV, self.reflexive, '')\n",
        "                if self.s(self.RV, self.adjective, ''):\n",
        "                    self.s(self.RV, self.participle, '')\n",
        "                else:\n",
        "                    if not self.s(self.RV, self.verb, ''):\n",
        "                        self.s(self.RV, self.noun, '')\n",
        "\n",
        "            self.s(self.RV, 'и$', '')\n",
        "\n",
        "            if re.search(self.derivational, self.RV):\n",
        "                self.s(self.RV, 'ость$', '')\n",
        "\n",
        "            if self.s(self.RV, 'ь$', ''):\n",
        "                self.s(self.RV, 'ейше?$', '')\n",
        "                self.s(self.RV, 'нн$', u'н')\n",
        "\n",
        "            stem = start + self.RV\n",
        "        return stem"
      ],
      "metadata": {
        "id": "Yr8BQEeYKxVm"
      },
      "execution_count": 11,
      "outputs": []
    },
    {
      "cell_type": "code",
      "source": [
        "en_stemmer = nltk.stem.PorterStemmer()\n",
        "en_stem_words = [en_stemmer.stem(word) for word in en_tokens]\n",
        "uk_stemmer = UkStemmer()\n",
        "uk_stem_words = [uk_stemmer.stem_word(word) for word in uk_tokens]\n",
        "print(en_stem_words)\n",
        "print(uk_stem_words)"
      ],
      "metadata": {
        "colab": {
          "base_uri": "https://localhost:8080/"
        },
        "id": "QNs5o0G4JW_o",
        "outputId": "19f2e9fd-66c0-4333-e658-01072dd37ff8"
      },
      "execution_count": 12,
      "outputs": [
        {
          "output_type": "stream",
          "name": "stdout",
          "text": [
            "['📸', 'i', 'want', 'to', 'take', 'a', 'photo', 'as', '...', 'under', 'no', 'circumst', 'should', 'you', 'compar', 'yourself', 'to', 'someon', 'or', 'imit', 'someon', '.', 'we', 'are', 'all', 'differ', 'from', 'natur', 'and', 'if', 'one', 'imag', 'is', '100', 'percent', ',', 'the', 'other', 'may', 'not', 'see', 'himself', 'as', 'beauti', '.', 'we', 'are', 'look', 'for', 'someth', 'that', 'suit', 'onli', 'you', '!', '📸the', 'imag', 'doe', 'not', 'match', 'the', 'parti', '!', 'often', 'you', 'do', 'not', 'like', 'yourself', 'in', 'the', 'photo', 'not', 'becaus', 'you', 'did', 'poorli', 'in', 'the', 'frame', ',', 'but', 'becaus', 'your', 'cloth', 'just', 'do', 'not', 'match', 'the', 'style', 'of', 'the', 'chosen', 'locat', '.', 'alway', 'discuss', 'thi', 'point', 'with', 'the', 'photograph', ',', 'she', '/', 'he', 'will', 'alway', 'be', 'happi', 'to', 'tell', 'you', 'someth', 'and', 'pick', 'up', 'cloth', 'for', 'the', 'photo', 'studio', '.', 'care', 'choos', 'the', 'imag', 'for', 'a', 'photo', 'shoot', ',', 'makeup', 'and', 'hair', '!']\n",
            "['📸', 'хоч', 'вийт', 'на', 'фот', 'як', '...', 'ні', 'в', 'як', 'раз', 'не', 'потрібн', 'порівнюв', 'себ', 'з', 'ким', 'аб', 'ког', 'наслідув', '.', 'всі', 'ми', 'різн', 'від', 'природ', 'і', 'якщ', 'одн', 'образ', 'йде', 'на', '100', 'відсотк', ',', 'то', 'інш', 'в', 'ньом', 'мож', 'побачит', 'себ', 'не', 'красив', '.', 'шукаєм', 'то', 'що', 'йде', 'тільк', 'вам', '!', '📸образ', 'не', 'відповід', 'сторон', '!', 'част', 'ви', 'не', 'подобаєт', 'соб', 'на', 'фот', 'не', 'том', 'що', 'ви', 'поган', 'вийшл', 'в', 'кадр', ',', 'а', 'том', 'що', 'прост', 'ваш', 'одяг', 'абсолютн', 'не', 'відповід', 'стил', 'обран', 'локаці', '.', 'завжд', 'обговорюйт', 'це', 'момент', 'з', 'фотограф', ',', 'вон', '/', 'він', 'завжд', 'з', 'радіст', 'вам', 'що', 'підкаж', 'і', 'підбер', 'одяг', 'до', 'фотостуді', '.', 'ретельн', 'підбирайт', 'образ', 'на', 'фотосес', ',', 'макіяж', 'і', 'зачіск', '!']\n"
          ]
        }
      ]
    },
    {
      "cell_type": "markdown",
      "source": [
        "Part of speech tagging"
      ],
      "metadata": {
        "id": "HAReVFh1LWQV"
      }
    },
    {
      "cell_type": "code",
      "source": [
        "en_pos_tag = [nltk.pos_tag([token]) for token in en_tokens]\n",
        "print(en_pos_tag)"
      ],
      "metadata": {
        "colab": {
          "base_uri": "https://localhost:8080/"
        },
        "id": "NxWe2TNkLWog",
        "outputId": "05c048a6-6222-4d09-d5d4-d328d948737e"
      },
      "execution_count": 13,
      "outputs": [
        {
          "output_type": "stream",
          "name": "stdout",
          "text": [
            "[[('📸', 'NN')], [('i', 'NN')], [('want', 'NN')], [('to', 'TO')], [('take', 'VB')], [('a', 'DT')], [('photo', 'NN')], [('as', 'IN')], [('...', ':')], [('under', 'IN')], [('no', 'DT')], [('circumstances', 'NNS')], [('should', 'MD')], [('you', 'PRP')], [('compare', 'NN')], [('yourself', 'PRP')], [('to', 'TO')], [('someone', 'NN')], [('or', 'CC')], [('imitate', 'NN')], [('someone', 'NN')], [('.', '.')], [('we', 'PRP')], [('are', 'VBP')], [('all', 'DT')], [('different', 'JJ')], [('from', 'IN')], [('nature', 'NN')], [('and', 'CC')], [('if', 'IN')], [('one', 'CD')], [('image', 'NN')], [('is', 'VBZ')], [('100', 'CD')], [('percent', 'NN')], [(',', ',')], [('the', 'DT')], [('other', 'JJ')], [('may', 'MD')], [('not', 'RB')], [('see', 'VB')], [('himself', 'PRP')], [('as', 'IN')], [('beautiful', 'NN')], [('.', '.')], [('we', 'PRP')], [('are', 'VBP')], [('looking', 'VBG')], [('for', 'IN')], [('something', 'NN')], [('that', 'IN')], [('suits', 'NNS')], [('only', 'RB')], [('you', 'PRP')], [('!', '.')], [('📸the', 'NN')], [('image', 'NN')], [('does', 'VBZ')], [('not', 'RB')], [('match', 'NN')], [('the', 'DT')], [('party', 'NN')], [('!', '.')], [('often', 'RB')], [('you', 'PRP')], [('do', 'VB')], [('not', 'RB')], [('like', 'IN')], [('yourself', 'PRP')], [('in', 'IN')], [('the', 'DT')], [('photo', 'NN')], [('not', 'RB')], [('because', 'IN')], [('you', 'PRP')], [('did', 'VBD')], [('poorly', 'RB')], [('in', 'IN')], [('the', 'DT')], [('frame', 'NN')], [(',', ',')], [('but', 'CC')], [('because', 'IN')], [('your', 'PRP$')], [('clothes', 'NNS')], [('just', 'RB')], [('do', 'VB')], [('not', 'RB')], [('match', 'NN')], [('the', 'DT')], [('style', 'NN')], [('of', 'IN')], [('the', 'DT')], [('chosen', 'NN')], [('location', 'NN')], [('.', '.')], [('always', 'RB')], [('discuss', 'NN')], [('this', 'DT')], [('point', 'NN')], [('with', 'IN')], [('the', 'DT')], [('photographer', 'NN')], [(',', ',')], [('she', 'PRP')], [('/', 'NN')], [('he', 'PRP')], [('will', 'MD')], [('always', 'RB')], [('be', 'VB')], [('happy', 'JJ')], [('to', 'TO')], [('tell', 'NN')], [('you', 'PRP')], [('something', 'NN')], [('and', 'CC')], [('pick', 'NN')], [('up', 'RB')], [('clothes', 'NNS')], [('for', 'IN')], [('the', 'DT')], [('photo', 'NN')], [('studio', 'NN')], [('.', '.')], [('carefully', 'RB')], [('choose', 'NN')], [('the', 'DT')], [('images', 'NNS')], [('for', 'IN')], [('a', 'DT')], [('photo', 'NN')], [('shoot', 'NN')], [(',', ',')], [('makeup', 'NN')], [('and', 'CC')], [('hair', 'NN')], [('!', '.')]]\n"
          ]
        }
      ]
    },
    {
      "cell_type": "code",
      "source": [
        "from tagger import Tagger"
      ],
      "metadata": {
        "id": "u4KIHeWtPoSj"
      },
      "execution_count": 14,
      "outputs": []
    },
    {
      "cell_type": "code",
      "source": [
        "uk_tag = Tagger(uk_tokens)\n",
        "uk_tag.label_data()"
      ],
      "metadata": {
        "id": "tOBbcMCaSkvn"
      },
      "execution_count": 26,
      "outputs": []
    },
    {
      "cell_type": "code",
      "source": [
        "uk_pos_tag = [(uk_tokens[i], uk_tag.predicted_tags[i][0]) for i in  range(0, len(uk_tokens))]\n",
        "print(uk_pos_tag)"
      ],
      "metadata": {
        "colab": {
          "base_uri": "https://localhost:8080/"
        },
        "id": "WJYyyz6Qjzov",
        "outputId": "3c047735-34f9-479a-aab2-14c1dc250d78"
      },
      "execution_count": 27,
      "outputs": [
        {
          "output_type": "stream",
          "name": "stdout",
          "text": [
            "[('📸', 'NOUN'), ('хочу', 'SCONJ'), ('вийти', 'VERB'), ('на', 'ADP'), ('фото', 'NOUN'), ('як', 'DET'), ('...', 'PUNCT'), ('ні', 'PART'), ('в', 'ADP'), ('якому', 'DET'), ('разі', 'NOUN'), ('не', 'PART'), ('потрібно', 'ADV'), ('порівнювати', 'NOUN'), ('себе', 'PRON'), ('з', 'ADP'), ('кимось', 'PRON'), ('або', 'CCONJ'), ('когось', 'PRON'), ('наслідувати', 'VERB'), ('.', 'PUNCT'), ('всі', 'DET'), ('ми', 'PRON'), ('різні', 'ADJ'), ('від', 'ADP'), ('природи', 'NOUN'), ('і', 'CCONJ'), ('якщо', 'SCONJ'), ('одному', 'DET'), ('образ', 'NOUN'), ('йде', 'VERB'), ('на', 'ADP'), ('100', 'NUM'), ('відсотків', 'NOUN'), (',', 'PUNCT'), ('то', 'PART'), ('інший', 'DET'), ('в', 'ADP'), ('ньому', 'PRON'), ('може', 'VERB'), ('побачити', 'VERB'), ('себе', 'PRON'), ('не', 'PART'), ('красивим', 'ADJ'), ('.', 'PUNCT'), ('шукаємо', 'SYM'), ('то', 'DET'), ('що', 'PRON'), ('йде', 'VERB'), ('тільки', 'PART'), ('вам', 'PRON'), ('!', 'PUNCT'), ('📸образ', 'X'), ('не', 'PART'), ('відповідає', 'VERB'), ('сторони', 'NOUN'), ('!', 'PUNCT'), ('часто', 'ADV'), ('ви', 'PRON'), ('не', 'PART'), ('подобаєтеся', 'VERB'), ('собі', 'PRON'), ('на', 'ADP'), ('фото', 'NOUN'), ('не', 'PART'), ('тому', 'ADV'), ('що', 'PRON'), ('ви', 'PRON'), ('погано', 'ADV'), ('вийшли', 'VERB'), ('в', 'ADP'), ('кадрі', 'NOUN'), (',', 'PUNCT'), ('а', 'CCONJ'), ('тому', 'ADV'), ('що', 'PRON'), ('просто', 'PART'), ('ваш', 'DET'), ('одяг', 'NOUN'), ('абсолютно', 'ADV'), ('не', 'PART'), ('відповідає', 'VERB'), ('стилю', 'NOUN'), ('обраної', 'NOUN'), ('локації', 'NOUN'), ('.', 'PUNCT'), ('завжди', 'ADV'), ('обговорюйте', 'NOUN'), ('цей', 'PRON'), ('момент', 'NOUN'), ('з', 'ADP'), ('фотографом', 'NOUN'), (',', 'PUNCT'), ('вона', 'PRON'), ('/', 'PROPN'), ('він', 'PRON'), ('завжди', 'ADV'), ('з', 'ADP'), ('радістю', 'NOUN'), ('вам', 'PRON'), ('щось', 'SCONJ'), ('підкаже', 'VERB'), ('і', 'CCONJ'), ('підбере', 'VERB'), ('одяг', 'VERB'), ('до', 'ADP'), ('фотостудії', 'NOUN'), ('.', 'PUNCT'), ('ретельно', 'SYM'), ('підбирайте', 'NOUN'), ('образи', 'NOUN'), ('на', 'ADP'), ('фотосесію', 'NOUN'), (',', 'PUNCT'), ('макіяж', 'NOUN'), ('і', 'CCONJ'), ('зачіску', 'NOUN'), ('!', 'PUNCT')]\n"
          ]
        }
      ]
    },
    {
      "cell_type": "markdown",
      "source": [
        "Chunking"
      ],
      "metadata": {
        "id": "E7qX0XZAktNp"
      }
    },
    {
      "cell_type": "code",
      "source": [
        "reg = \"NP: {<DT>?<JJ>*<NN>}\"\n",
        "en_pos_tag = nltk.pos_tag(en_tokens)\n",
        "reg_parser = nltk.RegexpParser(reg)\n",
        "result = reg_parser.parse(en_pos_tag)\n",
        "print(result)"
      ],
      "metadata": {
        "colab": {
          "base_uri": "https://localhost:8080/"
        },
        "id": "e71L7aWLktsb",
        "outputId": "8e832d5b-9c45-4f24-e72a-00e14e2c6d39"
      },
      "execution_count": 29,
      "outputs": [
        {
          "output_type": "stream",
          "name": "stdout",
          "text": [
            "(S\n",
            "  (NP 📸/NN)\n",
            "  (NP i/NN)\n",
            "  want/VBP\n",
            "  to/TO\n",
            "  take/VB\n",
            "  (NP a/DT photo/NN)\n",
            "  as/IN\n",
            "  .../:\n",
            "  under/IN\n",
            "  no/DT\n",
            "  circumstances/NNS\n",
            "  should/MD\n",
            "  you/PRP\n",
            "  compare/VB\n",
            "  yourself/PRP\n",
            "  to/TO\n",
            "  (NP someone/NN)\n",
            "  or/CC\n",
            "  imitate/VB\n",
            "  (NP someone/NN)\n",
            "  ./.\n",
            "  we/PRP\n",
            "  are/VBP\n",
            "  all/DT\n",
            "  different/JJ\n",
            "  from/IN\n",
            "  (NP nature/NN)\n",
            "  and/CC\n",
            "  if/IN\n",
            "  one/CD\n",
            "  (NP image/NN)\n",
            "  is/VBZ\n",
            "  100/CD\n",
            "  (NP percent/NN)\n",
            "  ,/,\n",
            "  the/DT\n",
            "  other/JJ\n",
            "  may/MD\n",
            "  not/RB\n",
            "  see/VB\n",
            "  himself/PRP\n",
            "  as/IN\n",
            "  (NP beautiful/NN)\n",
            "  ./.\n",
            "  we/PRP\n",
            "  are/VBP\n",
            "  looking/VBG\n",
            "  for/IN\n",
            "  (NP something/NN)\n",
            "  that/WDT\n",
            "  suits/NNS\n",
            "  only/RB\n",
            "  you/PRP\n",
            "  !/.\n",
            "  (NP 📸the/JJ image/NN)\n",
            "  does/VBZ\n",
            "  not/RB\n",
            "  match/VB\n",
            "  (NP the/DT party/NN)\n",
            "  !/.\n",
            "  often/RB\n",
            "  you/PRP\n",
            "  do/VBP\n",
            "  not/RB\n",
            "  like/VB\n",
            "  yourself/PRP\n",
            "  in/IN\n",
            "  (NP the/DT photo/NN)\n",
            "  not/RB\n",
            "  because/IN\n",
            "  you/PRP\n",
            "  did/VBD\n",
            "  poorly/RB\n",
            "  in/IN\n",
            "  (NP the/DT frame/NN)\n",
            "  ,/,\n",
            "  but/CC\n",
            "  because/IN\n",
            "  your/PRP$\n",
            "  clothes/NNS\n",
            "  just/RB\n",
            "  do/VBP\n",
            "  not/RB\n",
            "  match/VB\n",
            "  (NP the/DT style/NN)\n",
            "  of/IN\n",
            "  (NP the/DT chosen/NN)\n",
            "  (NP location/NN)\n",
            "  ./.\n",
            "  always/RB\n",
            "  discuss/VB\n",
            "  (NP this/DT point/NN)\n",
            "  with/IN\n",
            "  (NP the/DT photographer/NN)\n",
            "  ,/,\n",
            "  she/PRP\n",
            "  //VBD\n",
            "  he/PRP\n",
            "  will/MD\n",
            "  always/RB\n",
            "  be/VB\n",
            "  happy/JJ\n",
            "  to/TO\n",
            "  tell/VB\n",
            "  you/PRP\n",
            "  (NP something/NN)\n",
            "  and/CC\n",
            "  pick/VB\n",
            "  up/RP\n",
            "  clothes/NNS\n",
            "  for/IN\n",
            "  (NP the/DT photo/NN)\n",
            "  (NP studio/NN)\n",
            "  ./.\n",
            "  carefully/RB\n",
            "  choose/VB\n",
            "  the/DT\n",
            "  images/NNS\n",
            "  for/IN\n",
            "  (NP a/DT photo/NN)\n",
            "  (NP shoot/NN)\n",
            "  ,/,\n",
            "  (NP makeup/NN)\n",
            "  and/CC\n",
            "  (NP hair/NN)\n",
            "  !/.)\n"
          ]
        }
      ]
    },
    {
      "cell_type": "code",
      "source": [
        "reg = \"NP: {<DT>?<JJ>*<NN>}\"\n",
        "reg_parser = nltk.RegexpParser(reg)\n",
        "result = reg_parser.parse(uk_pos_tag)\n",
        "print(result)"
      ],
      "metadata": {
        "colab": {
          "base_uri": "https://localhost:8080/"
        },
        "id": "GC5c1ivCnbBu",
        "outputId": "39c380a3-4a50-4fec-b06f-f9a35637e67c"
      },
      "execution_count": 28,
      "outputs": [
        {
          "output_type": "stream",
          "name": "stdout",
          "text": [
            "(S\n",
            "  📸/NOUN\n",
            "  хочу/SCONJ\n",
            "  вийти/VERB\n",
            "  на/ADP\n",
            "  фото/NOUN\n",
            "  як/DET\n",
            "  .../PUNCT\n",
            "  ні/PART\n",
            "  в/ADP\n",
            "  якому/DET\n",
            "  разі/NOUN\n",
            "  не/PART\n",
            "  потрібно/ADV\n",
            "  порівнювати/NOUN\n",
            "  себе/PRON\n",
            "  з/ADP\n",
            "  кимось/PRON\n",
            "  або/CCONJ\n",
            "  когось/PRON\n",
            "  наслідувати/VERB\n",
            "  ./PUNCT\n",
            "  всі/DET\n",
            "  ми/PRON\n",
            "  різні/ADJ\n",
            "  від/ADP\n",
            "  природи/NOUN\n",
            "  і/CCONJ\n",
            "  якщо/SCONJ\n",
            "  одному/DET\n",
            "  образ/NOUN\n",
            "  йде/VERB\n",
            "  на/ADP\n",
            "  100/NUM\n",
            "  відсотків/NOUN\n",
            "  ,/PUNCT\n",
            "  то/PART\n",
            "  інший/DET\n",
            "  в/ADP\n",
            "  ньому/PRON\n",
            "  може/VERB\n",
            "  побачити/VERB\n",
            "  себе/PRON\n",
            "  не/PART\n",
            "  красивим/ADJ\n",
            "  ./PUNCT\n",
            "  шукаємо/SYM\n",
            "  то/DET\n",
            "  що/PRON\n",
            "  йде/VERB\n",
            "  тільки/PART\n",
            "  вам/PRON\n",
            "  !/PUNCT\n",
            "  📸образ/X\n",
            "  не/PART\n",
            "  відповідає/VERB\n",
            "  сторони/NOUN\n",
            "  !/PUNCT\n",
            "  часто/ADV\n",
            "  ви/PRON\n",
            "  не/PART\n",
            "  подобаєтеся/VERB\n",
            "  собі/PRON\n",
            "  на/ADP\n",
            "  фото/NOUN\n",
            "  не/PART\n",
            "  тому/ADV\n",
            "  що/PRON\n",
            "  ви/PRON\n",
            "  погано/ADV\n",
            "  вийшли/VERB\n",
            "  в/ADP\n",
            "  кадрі/NOUN\n",
            "  ,/PUNCT\n",
            "  а/CCONJ\n",
            "  тому/ADV\n",
            "  що/PRON\n",
            "  просто/PART\n",
            "  ваш/DET\n",
            "  одяг/NOUN\n",
            "  абсолютно/ADV\n",
            "  не/PART\n",
            "  відповідає/VERB\n",
            "  стилю/NOUN\n",
            "  обраної/NOUN\n",
            "  локації/NOUN\n",
            "  ./PUNCT\n",
            "  завжди/ADV\n",
            "  обговорюйте/NOUN\n",
            "  цей/PRON\n",
            "  момент/NOUN\n",
            "  з/ADP\n",
            "  фотографом/NOUN\n",
            "  ,/PUNCT\n",
            "  вона/PRON\n",
            "  //PROPN\n",
            "  він/PRON\n",
            "  завжди/ADV\n",
            "  з/ADP\n",
            "  радістю/NOUN\n",
            "  вам/PRON\n",
            "  щось/SCONJ\n",
            "  підкаже/VERB\n",
            "  і/CCONJ\n",
            "  підбере/VERB\n",
            "  одяг/VERB\n",
            "  до/ADP\n",
            "  фотостудії/NOUN\n",
            "  ./PUNCT\n",
            "  ретельно/SYM\n",
            "  підбирайте/NOUN\n",
            "  образи/NOUN\n",
            "  на/ADP\n",
            "  фотосесію/NOUN\n",
            "  ,/PUNCT\n",
            "  макіяж/NOUN\n",
            "  і/CCONJ\n",
            "  зачіску/NOUN\n",
            "  !/PUNCT)\n"
          ]
        }
      ]
    }
  ]
}