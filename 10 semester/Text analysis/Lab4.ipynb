{
  "nbformat": 4,
  "nbformat_minor": 0,
  "metadata": {
    "colab": {
      "name": "Lab4.ipynb",
      "provenance": []
    },
    "kernelspec": {
      "name": "python3",
      "display_name": "Python 3"
    },
    "language_info": {
      "name": "python"
    }
  },
  "cells": [
    {
      "cell_type": "code",
      "execution_count": 102,
      "metadata": {
        "colab": {
          "base_uri": "https://localhost:8080/"
        },
        "id": "PhdW4tAjEbUs",
        "outputId": "688656d5-1b33-4117-c438-a4e8891824fc"
      },
      "outputs": [
        {
          "output_type": "stream",
          "name": "stdout",
          "text": [
            "[nltk_data] Downloading package punkt to /root/nltk_data...\n",
            "[nltk_data]   Package punkt is already up-to-date!\n"
          ]
        },
        {
          "output_type": "execute_result",
          "data": {
            "text/plain": [
              "True"
            ]
          },
          "metadata": {},
          "execution_count": 102
        }
      ],
      "source": [
        "import pandas as pd\n",
        "import numpy as np\n",
        "import nltk\n",
        "nltk.download('punkt')"
      ]
    },
    {
      "cell_type": "code",
      "source": [
        "def read_text(name_txt):\n",
        "  with open(name_txt, 'r') as file:\n",
        "    text = file.readlines()\n",
        "  return ' '.join(text)"
      ],
      "metadata": {
        "id": "r60YXyU4qHtH"
      },
      "execution_count": 3,
      "outputs": []
    },
    {
      "cell_type": "code",
      "source": [
        "data = pd.read_csv('encoded-museums.csv', delimiter='\\\\t', engine='python')"
      ],
      "metadata": {
        "id": "9EYU31PxzdTk"
      },
      "execution_count": 205,
      "outputs": []
    },
    {
      "cell_type": "code",
      "source": [
        "data.head()"
      ],
      "metadata": {
        "colab": {
          "base_uri": "https://localhost:8080/",
          "height": 206
        },
        "id": "w2beOwM10_ri",
        "outputId": "5f64f4de-dcb3-4574-df87-2fa84f6afa4a"
      },
      "execution_count": 206,
      "outputs": [
        {
          "output_type": "execute_result",
          "data": {
            "text/plain": [
              "                                               \"text stars\"\n",
              "0  \"Надзвичайно містичне та історичне місце , чуд...     5\"\n",
              "1  \"Цікаве місце. Нам дуже пощастило поспілкувати...     5\"\n",
              "2  \"В цьому музеї ви не проведете багато часу. В ...     5\"\n",
              "3  \"Не музей. Просто стара хата. Навіть частина. ...     4\"\n",
              "4  \"Надзвичайно містичне та історичне місце , чуд...     5\""
            ],
            "text/html": [
              "\n",
              "  <div id=\"df-6e7a705a-8f2a-4b76-ae34-5307cd87691f\">\n",
              "    <div class=\"colab-df-container\">\n",
              "      <div>\n",
              "<style scoped>\n",
              "    .dataframe tbody tr th:only-of-type {\n",
              "        vertical-align: middle;\n",
              "    }\n",
              "\n",
              "    .dataframe tbody tr th {\n",
              "        vertical-align: top;\n",
              "    }\n",
              "\n",
              "    .dataframe thead th {\n",
              "        text-align: right;\n",
              "    }\n",
              "</style>\n",
              "<table border=\"1\" class=\"dataframe\">\n",
              "  <thead>\n",
              "    <tr style=\"text-align: right;\">\n",
              "      <th></th>\n",
              "      <th>\"text</th>\n",
              "      <th>stars\"</th>\n",
              "    </tr>\n",
              "  </thead>\n",
              "  <tbody>\n",
              "    <tr>\n",
              "      <th>0</th>\n",
              "      <td>\"Надзвичайно містичне та історичне місце , чуд...</td>\n",
              "      <td>5\"</td>\n",
              "    </tr>\n",
              "    <tr>\n",
              "      <th>1</th>\n",
              "      <td>\"Цікаве місце. Нам дуже пощастило поспілкувати...</td>\n",
              "      <td>5\"</td>\n",
              "    </tr>\n",
              "    <tr>\n",
              "      <th>2</th>\n",
              "      <td>\"В цьому музеї ви не проведете багато часу. В ...</td>\n",
              "      <td>5\"</td>\n",
              "    </tr>\n",
              "    <tr>\n",
              "      <th>3</th>\n",
              "      <td>\"Не музей. Просто стара хата. Навіть частина. ...</td>\n",
              "      <td>4\"</td>\n",
              "    </tr>\n",
              "    <tr>\n",
              "      <th>4</th>\n",
              "      <td>\"Надзвичайно містичне та історичне місце , чуд...</td>\n",
              "      <td>5\"</td>\n",
              "    </tr>\n",
              "  </tbody>\n",
              "</table>\n",
              "</div>\n",
              "      <button class=\"colab-df-convert\" onclick=\"convertToInteractive('df-6e7a705a-8f2a-4b76-ae34-5307cd87691f')\"\n",
              "              title=\"Convert this dataframe to an interactive table.\"\n",
              "              style=\"display:none;\">\n",
              "        \n",
              "  <svg xmlns=\"http://www.w3.org/2000/svg\" height=\"24px\"viewBox=\"0 0 24 24\"\n",
              "       width=\"24px\">\n",
              "    <path d=\"M0 0h24v24H0V0z\" fill=\"none\"/>\n",
              "    <path d=\"M18.56 5.44l.94 2.06.94-2.06 2.06-.94-2.06-.94-.94-2.06-.94 2.06-2.06.94zm-11 1L8.5 8.5l.94-2.06 2.06-.94-2.06-.94L8.5 2.5l-.94 2.06-2.06.94zm10 10l.94 2.06.94-2.06 2.06-.94-2.06-.94-.94-2.06-.94 2.06-2.06.94z\"/><path d=\"M17.41 7.96l-1.37-1.37c-.4-.4-.92-.59-1.43-.59-.52 0-1.04.2-1.43.59L10.3 9.45l-7.72 7.72c-.78.78-.78 2.05 0 2.83L4 21.41c.39.39.9.59 1.41.59.51 0 1.02-.2 1.41-.59l7.78-7.78 2.81-2.81c.8-.78.8-2.07 0-2.86zM5.41 20L4 18.59l7.72-7.72 1.47 1.35L5.41 20z\"/>\n",
              "  </svg>\n",
              "      </button>\n",
              "      \n",
              "  <style>\n",
              "    .colab-df-container {\n",
              "      display:flex;\n",
              "      flex-wrap:wrap;\n",
              "      gap: 12px;\n",
              "    }\n",
              "\n",
              "    .colab-df-convert {\n",
              "      background-color: #E8F0FE;\n",
              "      border: none;\n",
              "      border-radius: 50%;\n",
              "      cursor: pointer;\n",
              "      display: none;\n",
              "      fill: #1967D2;\n",
              "      height: 32px;\n",
              "      padding: 0 0 0 0;\n",
              "      width: 32px;\n",
              "    }\n",
              "\n",
              "    .colab-df-convert:hover {\n",
              "      background-color: #E2EBFA;\n",
              "      box-shadow: 0px 1px 2px rgba(60, 64, 67, 0.3), 0px 1px 3px 1px rgba(60, 64, 67, 0.15);\n",
              "      fill: #174EA6;\n",
              "    }\n",
              "\n",
              "    [theme=dark] .colab-df-convert {\n",
              "      background-color: #3B4455;\n",
              "      fill: #D2E3FC;\n",
              "    }\n",
              "\n",
              "    [theme=dark] .colab-df-convert:hover {\n",
              "      background-color: #434B5C;\n",
              "      box-shadow: 0px 1px 3px 1px rgba(0, 0, 0, 0.15);\n",
              "      filter: drop-shadow(0px 1px 2px rgba(0, 0, 0, 0.3));\n",
              "      fill: #FFFFFF;\n",
              "    }\n",
              "  </style>\n",
              "\n",
              "      <script>\n",
              "        const buttonEl =\n",
              "          document.querySelector('#df-6e7a705a-8f2a-4b76-ae34-5307cd87691f button.colab-df-convert');\n",
              "        buttonEl.style.display =\n",
              "          google.colab.kernel.accessAllowed ? 'block' : 'none';\n",
              "\n",
              "        async function convertToInteractive(key) {\n",
              "          const element = document.querySelector('#df-6e7a705a-8f2a-4b76-ae34-5307cd87691f');\n",
              "          const dataTable =\n",
              "            await google.colab.kernel.invokeFunction('convertToInteractive',\n",
              "                                                     [key], {});\n",
              "          if (!dataTable) return;\n",
              "\n",
              "          const docLinkHtml = 'Like what you see? Visit the ' +\n",
              "            '<a target=\"_blank\" href=https://colab.research.google.com/notebooks/data_table.ipynb>data table notebook</a>'\n",
              "            + ' to learn more about interactive tables.';\n",
              "          element.innerHTML = '';\n",
              "          dataTable['output_type'] = 'display_data';\n",
              "          await google.colab.output.renderOutput(dataTable, element);\n",
              "          const docLink = document.createElement('div');\n",
              "          docLink.innerHTML = docLinkHtml;\n",
              "          element.appendChild(docLink);\n",
              "        }\n",
              "      </script>\n",
              "    </div>\n",
              "  </div>\n",
              "  "
            ]
          },
          "metadata": {},
          "execution_count": 206
        }
      ]
    },
    {
      "cell_type": "code",
      "source": [
        "data = data.dropna()\n",
        "train_data = data['\"text']\n",
        "train_label = data['stars\"']\n",
        "train_x = [sentence[1:] for sentence in train_data]\n",
        "Y = [sentence[:-1] for sentence in train_label]\n",
        "train_y = []\n",
        "for mark in Y:\n",
        "  if mark in ['5']:\n",
        "    train_y.append('positive')\n",
        "  else:\n",
        "    train_y.append('negative')\n"
      ],
      "metadata": {
        "id": "ubUjfOv_zlKq"
      },
      "execution_count": 207,
      "outputs": []
    },
    {
      "cell_type": "code",
      "source": [
        "def tokenize(data):\n",
        "  tokens = []\n",
        "  for line in data:\n",
        "    tokens.append(nltk.word_tokenize(line.lower()))\n",
        "  return tokens\n",
        "\n",
        "train_x = tokenize(train_x)"
      ],
      "metadata": {
        "id": "WWAQqb-i4woO"
      },
      "execution_count": 208,
      "outputs": []
    },
    {
      "cell_type": "code",
      "source": [
        "def remove_punctuation(data):\n",
        "  punctuation = [',', '.', '/', '\\\\', '|', '\\'', '\\'\\'', '\\\"', '«', '»', '-', '—', '%', '`', '``', '(', ')', '!', '?', ':', '’'] \n",
        "  tokens_without_punct = []\n",
        "  for token_sentence in data:\n",
        "    tok = [token for token in token_sentence if token not in punctuation]\n",
        "    tokens_without_punct.append(tok)\n",
        "  return tokens_without_punct\n",
        "\n",
        "train_x = remove_punctuation(train_x)"
      ],
      "metadata": {
        "id": "f3MwTZbz44FD"
      },
      "execution_count": 209,
      "outputs": []
    },
    {
      "cell_type": "code",
      "source": [
        "def remove_stopwords(data):\n",
        "  uk_stop_words = set(read_text('stopwords-uk.txt').split())\n",
        "  tokens_without_sw = []\n",
        "  for token_sentence in data:\n",
        "    tok = [token for token in token_sentence if token not in uk_stop_words]\n",
        "    tokens_without_sw.append(tok)\n",
        "  return tokens_without_sw\n",
        "\n",
        "train_x = remove_stopwords(train_x)"
      ],
      "metadata": {
        "id": "ZwPMHXpn48Ie"
      },
      "execution_count": 210,
      "outputs": []
    },
    {
      "cell_type": "code",
      "source": [
        "def list_to_string(data):\n",
        "  list_text = []\n",
        "  for text in data:\n",
        "    list_text.append(' '.join(text))\n",
        "  return list_text\n",
        "\n",
        "train_x = list_to_string(train_x)"
      ],
      "metadata": {
        "id": "QS9xMbNW5D7s"
      },
      "execution_count": 211,
      "outputs": []
    },
    {
      "cell_type": "code",
      "source": [
        "from sklearn.ensemble import AdaBoostClassifier, RandomForestClassifier, GradientBoostingClassifier\n",
        "from sklearn.feature_extraction.text import TfidfVectorizer\n",
        "from sklearn.model_selection import train_test_split\n",
        "from sklearn.pipeline import Pipeline\n",
        "from sklearn import metrics"
      ],
      "metadata": {
        "id": "5NbII6Pi5K3k"
      },
      "execution_count": 212,
      "outputs": []
    },
    {
      "cell_type": "code",
      "source": [
        "train_x, test_x, train_y, test_y = train_test_split(train_x, train_y, train_size = .75, stratify=train_y)"
      ],
      "metadata": {
        "id": "8dLGYz5s6G3i"
      },
      "execution_count": 213,
      "outputs": []
    },
    {
      "cell_type": "code",
      "source": [
        "abc_ppl_clf = Pipeline([\n",
        "    ('tfidf', TfidfVectorizer()),\n",
        "    ('sgd_clf', AdaBoostClassifier())])\n",
        "rfc_ppl_clf = Pipeline([\n",
        "    ('tfidf', TfidfVectorizer()),\n",
        "    ('knb_clf', RandomForestClassifier())])\n",
        "gbc_ppl_clf = Pipeline([\n",
        "    ('tfidf', TfidfVectorizer()),\n",
        "    ('sgd_clf', GradientBoostingClassifier())])"
      ],
      "metadata": {
        "id": "g6jAyh9v5FZz"
      },
      "execution_count": 214,
      "outputs": []
    },
    {
      "cell_type": "code",
      "source": [
        "abc_ppl_clf.fit(train_x, train_y)"
      ],
      "metadata": {
        "colab": {
          "base_uri": "https://localhost:8080/"
        },
        "id": "5MbLcJ8l5i0S",
        "outputId": "e8112ced-54af-4dc1-9c11-e97e5fe76f64"
      },
      "execution_count": 215,
      "outputs": [
        {
          "output_type": "execute_result",
          "data": {
            "text/plain": [
              "Pipeline(steps=[('tfidf', TfidfVectorizer()),\n",
              "                ('sgd_clf', AdaBoostClassifier())])"
            ]
          },
          "metadata": {},
          "execution_count": 215
        }
      ]
    },
    {
      "cell_type": "code",
      "source": [
        "rfc_ppl_clf.fit(train_x, train_y)"
      ],
      "metadata": {
        "colab": {
          "base_uri": "https://localhost:8080/"
        },
        "id": "3CG3DwY15q-F",
        "outputId": "e4a0026c-441f-4783-d656-d671faa914f6"
      },
      "execution_count": 217,
      "outputs": [
        {
          "output_type": "execute_result",
          "data": {
            "text/plain": [
              "Pipeline(steps=[('tfidf', TfidfVectorizer()),\n",
              "                ('knb_clf', RandomForestClassifier())])"
            ]
          },
          "metadata": {},
          "execution_count": 217
        }
      ]
    },
    {
      "cell_type": "code",
      "source": [
        "gbc_ppl_clf.fit(train_x, train_y)"
      ],
      "metadata": {
        "colab": {
          "base_uri": "https://localhost:8080/"
        },
        "id": "OHTJ36FO5rJx",
        "outputId": "0065c59d-78c6-4d13-9582-4f44aae27de0"
      },
      "execution_count": 218,
      "outputs": [
        {
          "output_type": "execute_result",
          "data": {
            "text/plain": [
              "Pipeline(steps=[('tfidf', TfidfVectorizer()),\n",
              "                ('sgd_clf', GradientBoostingClassifier())])"
            ]
          },
          "metadata": {},
          "execution_count": 218
        }
      ]
    },
    {
      "cell_type": "code",
      "source": [
        "predicted_abc = abc_ppl_clf.predict(test_x)\n",
        "print(metrics.classification_report(predicted_abc, test_y))"
      ],
      "metadata": {
        "colab": {
          "base_uri": "https://localhost:8080/"
        },
        "id": "J96kUo_Q5yho",
        "outputId": "e94b3f44-ca68-41fb-d032-b4aa99048cab"
      },
      "execution_count": 216,
      "outputs": [
        {
          "output_type": "stream",
          "name": "stdout",
          "text": [
            "              precision    recall  f1-score   support\n",
            "\n",
            "    negative       0.22      0.63      0.33       131\n",
            "    positive       0.96      0.81      0.88      1511\n",
            "\n",
            "    accuracy                           0.79      1642\n",
            "   macro avg       0.59      0.72      0.60      1642\n",
            "weighted avg       0.90      0.79      0.83      1642\n",
            "\n"
          ]
        }
      ]
    },
    {
      "cell_type": "code",
      "source": [
        "predicted_rfc = rfc_ppl_clf.predict(test_x)\n",
        "print(metrics.classification_report(predicted_rfc, test_y))"
      ],
      "metadata": {
        "colab": {
          "base_uri": "https://localhost:8080/"
        },
        "id": "MgzMfbBm6fVx",
        "outputId": "bd8e5d83-9395-4c2d-d6d3-5efbfcca7141"
      },
      "execution_count": 219,
      "outputs": [
        {
          "output_type": "stream",
          "name": "stdout",
          "text": [
            "              precision    recall  f1-score   support\n",
            "\n",
            "    negative       0.26      0.68      0.38       145\n",
            "    positive       0.96      0.82      0.88      1497\n",
            "\n",
            "    accuracy                           0.80      1642\n",
            "   macro avg       0.61      0.75      0.63      1642\n",
            "weighted avg       0.90      0.80      0.84      1642\n",
            "\n"
          ]
        }
      ]
    },
    {
      "cell_type": "code",
      "source": [
        "predicted_gbc = gbc_ppl_clf.predict(test_x)\n",
        "print(metrics.classification_report(predicted_gbc, test_y))"
      ],
      "metadata": {
        "colab": {
          "base_uri": "https://localhost:8080/"
        },
        "id": "dGylix8M-yGv",
        "outputId": "c43e6882-a69a-4efd-822a-ec30851707f8"
      },
      "execution_count": 220,
      "outputs": [
        {
          "output_type": "stream",
          "name": "stdout",
          "text": [
            "              precision    recall  f1-score   support\n",
            "\n",
            "    negative       0.17      0.75      0.27        83\n",
            "    positive       0.98      0.80      0.88      1559\n",
            "\n",
            "    accuracy                           0.80      1642\n",
            "   macro avg       0.58      0.77      0.58      1642\n",
            "weighted avg       0.94      0.80      0.85      1642\n",
            "\n"
          ]
        }
      ]
    }
  ]
}